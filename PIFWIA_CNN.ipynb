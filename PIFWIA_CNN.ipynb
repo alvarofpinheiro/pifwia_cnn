{
  "nbformat": 4,
  "nbformat_minor": 0,
  "metadata": {
    "colab": {
      "name": "PIFWIA_CNN.ipynb",
      "provenance": [],
      "collapsed_sections": []
    },
    "kernelspec": {
      "name": "python3",
      "display_name": "Python 3"
    }
  },
  "cells": [
    {
      "cell_type": "markdown",
      "source": [
        "No aprendizado profundo, uma rede neural convolucional (CNN ou ConvNet) é uma classe de rede neural artificial, mais comumente aplicada para analisar imagens visuais tendo aplicações em reconhecimento de imagem e vídeo, sistemas  de recomendação. As CNNs são versões regularizadas de perceptrons multicamadas. Perceptrons multicamadas geralmente significam redes totalmente conectadas, ou seja, cada neurônio em uma camada está conectado a todos os neurônios na próxima camada. A \"conectividade total\" dessas redes as torna propensas ao overfitting de dados. Formas típicas de regularização, ou prevenção de overfitting, incluem: penalizar parâmetros durante o treinamento (como queda de peso) ou aparar conectividade (conexões ignoradas, desistências, etc.) As CNNs adotam uma abordagem diferente em relação à regularização: elas aproveitam o padrão hierárquico nos dados e montar padrões de complexidade crescente usando padrões menores e mais simples gravados em seus filtros. Portanto, em uma escala de conectividade e complexidade, as CNNs estão no extremo inferior.\n",
        "\n",
        "Kim, Phil. Convolutional Neural Network. MATLAB Deep Learning. Apress, Berkeley, CA. https://doi.org/10.1007/978-1-4842-2845-6_6, 2017."
      ],
      "metadata": {
        "id": "EmJU94nIh5lG"
      }
    },
    {
      "cell_type": "code",
      "source": [
        "import numpy as np\n",
        "from keras.models import Sequential\n",
        "from keras.layers import Dropout, Dense, Flatten\n",
        "from keras.optimizers import SGD\n",
        "from keras.layers.convolutional import Conv2D, MaxPooling2D\n",
        "from keras.utils import np_utils as u\n",
        "from keras.datasets import cifar10"
      ],
      "metadata": {
        "id": "vq1P4kFbh6Md"
      },
      "execution_count": null,
      "outputs": []
    },
    {
      "cell_type": "code",
      "source": [
        "#Vamos começar carregando os dados do Cifar10\n",
        "(X, y), (X_test, y_test) = cifar10.load_data()"
      ],
      "metadata": {
        "id": "f7KniYpfiCmE"
      },
      "execution_count": null,
      "outputs": []
    },
    {
      "cell_type": "code",
      "source": [
        "#Lembre-se de que as imagens estão em RGB\n",
        "#Para que possamos normalizar os dados mergulhando em 255\n",
        "#Os dados estão em números inteiros, portanto, precisamos convertê-los para float primeiro\n",
        "X, X_test = X.astype('float32')/255.0, X_test.astype('float32')/255.0"
      ],
      "metadata": {
        "id": "SpzLot3_iFxG"
      },
      "execution_count": null,
      "outputs": []
    },
    {
      "cell_type": "code",
      "source": [
        "#Depois convertemos os valores de y em vetores one-hot\n",
        "#O cifar10 tem apenas 10 classes, por isso especificamos um one-hot\n",
        "#vetor de largura/classe 10\n",
        "y, y_test = u.to_categorical(y, 10), u.to_categorical(y_test, 10)"
      ],
      "metadata": {
        "id": "fC3ZTiVOiJWY"
      },
      "execution_count": null,
      "outputs": []
    },
    {
      "cell_type": "code",
      "source": [
        "#Agora podemos ir em frente e criar nosso modelo Convolution\n",
        "model = Sequential()"
      ],
      "metadata": {
        "id": "xREQNuctiM4m"
      },
      "execution_count": null,
      "outputs": []
    },
    {
      "cell_type": "code",
      "source": [
        "#Queremos gerar 32 mapas de recursos. O tamanho do kernel será\n",
        "#3x3 e especificamos nossa forma de entrada como 32x32 com 3 canais\n",
        "#Padding=mesmo significa que queremos a mesma saída dimensional que a entrada\n",
        "#activation especifica a função de ativação\n",
        "model.add(Conv2D(32, (3, 3), input_shape=(32, 32, 3), padding='same', activation='relu'))"
      ],
      "metadata": {
        "id": "KQ8rNHtoiQZw"
      },
      "execution_count": null,
      "outputs": []
    },
    {
      "cell_type": "code",
      "source": [
        "#20% dos nós são definidos como 0\n",
        "model.add(Dropout(0.2))"
      ],
      "metadata": {
        "id": "_yqAkvV9iTPB"
      },
      "execution_count": null,
      "outputs": []
    },
    {
      "cell_type": "code",
      "source": [
        "#agora adicionamos outra camada de convolução, novamente com um kernel 3x3\n",
        "#Desta vez nosso padding=valid significa que a dimensão de saída pode\n",
        "#tomar qualquer forma\n",
        "model.add(Conv2D(32, (3, 3), activation='relu', padding='valid'))"
      ],
      "metadata": {
        "id": "HyOzoiZZiWFi"
      },
      "execution_count": null,
      "outputs": []
    },
    {
      "cell_type": "code",
      "source": [
        "#maxpool com um kernet de 2x2\n",
        "model.add(MaxPooling2D(pool_size=(2, 2)))"
      ],
      "metadata": {
        "id": "8vzStGrSiYzG"
      },
      "execution_count": null,
      "outputs": []
    },
    {
      "cell_type": "code",
      "source": [
        "#Em um NN de convolução, precisamos nivelar nossos dados antes que possamos\n",
        "#introduza na camada de saída/densidade\n",
        "model.add(Flatten())"
      ],
      "metadata": {
        "id": "FYSSlG47ibZx"
      },
      "execution_count": null,
      "outputs": []
    },
    {
      "cell_type": "code",
      "source": [
        "#Camada densa com 512 unidades ocultas\n",
        "model.add(Dense(512, activation='relu'))"
      ],
      "metadata": {
        "id": "p0Vqf13EieHT"
      },
      "execution_count": null,
      "outputs": []
    },
    {
      "cell_type": "code",
      "source": [
        "#desta vez, definimos 30% dos nós para 0 para minimizar o overfitting\n",
        "model.add(Dropout(0.3))"
      ],
      "metadata": {
        "id": "OgBETgkMigdW"
      },
      "execution_count": null,
      "outputs": []
    },
    {
      "cell_type": "code",
      "source": [
        "#Finalmente a camada densa de saída com 10 unidades ocultas correspondentes a\n",
        "#nossa aula 10\n",
        "model.add(Dense(10, activation='softmax'))"
      ],
      "metadata": {
        "id": "uxtPYpMOiixO"
      },
      "execution_count": null,
      "outputs": []
    },
    {
      "cell_type": "code",
      "source": [
        "#Poucas configurações simples\n",
        "model.compile(loss='categorical_crossentropy', optimizer=SGD(momentum=0.5, decay=0.0004), metrics=['accuracy'])"
      ],
      "metadata": {
        "id": "dq7iio1KilIN"
      },
      "execution_count": null,
      "outputs": []
    },
    {
      "cell_type": "code",
      "source": [
        "#Execute o algoritmo!\n",
        "model.fit(X, y, validation_data=(X_test, y_test), epochs=25, batch_size=512)"
      ],
      "metadata": {
        "id": "K9sUOD4Tinfz"
      },
      "execution_count": null,
      "outputs": []
    },
    {
      "cell_type": "code",
      "source": [
        "#Salve os pesos para usar depois\n",
        "model.save_weights(\"cifar10.hdf5\")"
      ],
      "metadata": {
        "id": "KVnTp670ip1L"
      },
      "execution_count": null,
      "outputs": []
    },
    {
      "cell_type": "code",
      "source": [
        "#Finalmente imprima a precisão do nosso modelo!\n",
        "print(\"Accuracy: &2.f%%\" %(model.evaluate(X_test, y_test)[1]*100))"
      ],
      "metadata": {
        "id": "Cco6KxmMir98"
      },
      "execution_count": null,
      "outputs": []
    }
  ]
}